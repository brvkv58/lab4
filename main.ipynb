{
 "cells": [
  {
   "metadata": {},
   "cell_type": "code",
   "source": [
    "# 1. Basic Function\n",
    "print(\"add:\")\n",
    "def add_numbers(a, b):\n",
    "    return a + b\n",
    "\n",
    "print(add_numbers(1, 2))\n",
    "\n",
    "print(\"Lambda:\")\n",
    "\n",
    "add_lambda = lambda a, b: a + b\n",
    "print (add_lambda(1, 5))\n"
   ],
   "id": "7e357ebc7992be18",
   "outputs": [],
   "execution_count": null
  },
  {
   "metadata": {},
   "cell_type": "code",
   "source": [
    "# 2. Flexible Function\n",
    "print(\"join_words:\")\n",
    "def join_words(x, y, z):\n",
    "    return x + \" \" + y + z\n",
    "print(join_words(\"Hello\", \"World\", \"!\"))\n",
    "\n",
    "print(\"lambda:\")\n",
    "join_lambda = lambda x, y, z: x + \" \" + y + z\n",
    "print(join_lambda(\"Hello\", \"World\", \"!\"))"
   ],
   "id": "a1256f0f731e2b3f",
   "outputs": [],
   "execution_count": null
  },
  {
   "metadata": {
    "ExecuteTime": {
     "end_time": "2025-02-20T23:56:22.092088Z",
     "start_time": "2025-02-20T23:56:22.088861Z"
    }
   },
   "cell_type": "code",
   "source": [
    "# 3. Recursive Function\n",
    "def countdown(n):\n",
    "    if n < 0:\n",
    "        return\n",
    "    print(n)\n",
    "    count(n - 1)\n",
    "\n",
    "countdown(5)"
   ],
   "id": "632510d1b076e8ac",
   "outputs": [
    {
     "name": "stdout",
     "output_type": "stream",
     "text": [
      "5\n",
      "4\n",
      "3\n",
      "2\n",
      "1\n",
      "0\n"
     ]
    }
   ],
   "execution_count": 6
  },
  {
   "metadata": {
    "ExecuteTime": {
     "end_time": "2025-02-20T23:58:27.872926Z",
     "start_time": "2025-02-20T23:58:27.862898Z"
    }
   },
   "cell_type": "code",
   "source": [
    "# 4. Normal Function Usage\n",
    "def greet(x):\n",
    "    print(f\"Hello, {x}!\")\n",
    "\n",
    "greet(\"Professor Kholodovsky\")"
   ],
   "id": "c250485dfb988090",
   "outputs": [
    {
     "name": "stdout",
     "output_type": "stream",
     "text": [
      "Hello, Professor Kholodovsky!\n"
     ]
    }
   ],
   "execution_count": 11
  },
  {
   "metadata": {
    "ExecuteTime": {
     "end_time": "2025-02-21T00:04:35.614305Z",
     "start_time": "2025-02-21T00:04:28.120406Z"
    }
   },
   "cell_type": "code",
   "source": [
    "# 5. Function with Default Arguments\n",
    "def repeater():\n",
    "    x = input(\"Enter a phrase:\")\n",
    "    y = int(input(\"Repeat this many times:\"))\n",
    "    while y > 0:\n",
    "        print(x)\n",
    "        y -= 1\n",
    "\n",
    "repeater()"
   ],
   "id": "32d06ee2c40533ed",
   "outputs": [
    {
     "name": "stdout",
     "output_type": "stream",
     "text": [
      "hello world\n",
      "hello world\n",
      "hello world\n",
      "hello world\n",
      "hello world\n",
      "hello world\n",
      "hello world\n",
      "hello world\n",
      "hello world\n",
      "hello world\n",
      "hello world\n",
      "hello world\n",
      "hello world\n",
      "hello world\n",
      "hello world\n",
      "hello world\n",
      "hello world\n",
      "hello world\n",
      "hello world\n",
      "hello world\n",
      "hello world\n",
      "hello world\n",
      "hello world\n",
      "hello world\n",
      "hello world\n",
      "hello world\n",
      "hello world\n",
      "hello world\n",
      "hello world\n",
      "hello world\n",
      "hello world\n",
      "hello world\n",
      "hello world\n",
      "hello world\n",
      "hello world\n"
     ]
    }
   ],
   "execution_count": 24
  },
  {
   "metadata": {
    "ExecuteTime": {
     "end_time": "2025-02-21T00:06:45.698234Z",
     "start_time": "2025-02-21T00:06:45.684332Z"
    }
   },
   "cell_type": "code",
   "source": [
    "# 6. Higher-Order Func\n",
    "def apply_function(x, y):\n",
    "    return x(y)\n",
    "\n",
    "print(apply_function(lambda x: x.upper(), \"hello\"))"
   ],
   "id": "55606f35caa5d0f5",
   "outputs": [
    {
     "name": "stdout",
     "output_type": "stream",
     "text": [
      "HELLO\n"
     ]
    }
   ],
   "execution_count": 25
  },
  {
   "metadata": {
    "ExecuteTime": {
     "end_time": "2025-02-21T00:09:54.260467Z",
     "start_time": "2025-02-21T00:09:54.252767Z"
    }
   },
   "cell_type": "code",
   "source": [
    "# 7. Handle errors\n",
    "def safe_divide(x, y):\n",
    "    try:\n",
    "        return x / y\n",
    "    except ZeroDivisionError:\n",
    "        return \"Error: cannot divide by zero\"\n",
    "\n",
    "print(f\"10 / 2 = {safe_divide(10, 2)} \")\n",
    "\n",
    "print(f\"10 / 0 = {safe_divide(10, 0)} \")"
   ],
   "id": "b4fc8c1b2dcc4b7a",
   "outputs": [
    {
     "name": "stdout",
     "output_type": "stream",
     "text": [
      "10 / 2 = 5.0 \n",
      "10 / 0 = Error: cannot divide by zero \n"
     ]
    }
   ],
   "execution_count": 28
  },
  {
   "metadata": {
    "ExecuteTime": {
     "end_time": "2025-02-21T00:18:31.691098Z",
     "start_time": "2025-02-21T00:18:30.006530Z"
    }
   },
   "cell_type": "code",
   "source": [
    "# 8. Custom exceptions\n",
    "def check_age():\n",
    "    age = int(input(\"Enter age:\"))\n",
    "    if not isinstance(age, int) or age < 0:\n",
    "        raise ValueError(\"Error: age must be a positive integer\")\n",
    "    else:\n",
    "        print(f\"Age Accepted!: {age}\")\n",
    "\n",
    "check_age()"
   ],
   "id": "855acb47893bada",
   "outputs": [
    {
     "name": "stdout",
     "output_type": "stream",
     "text": [
      "Age Accepted!: 35\n"
     ]
    }
   ],
   "execution_count": 46
  },
  {
   "metadata": {
    "ExecuteTime": {
     "end_time": "2025-02-21T00:23:01.529553Z",
     "start_time": "2025-02-21T00:23:01.516157Z"
    }
   },
   "cell_type": "code",
   "source": [
    "# 9. Handling multiple exceptions\n",
    "def parse_int(x):\n",
    "    try:\n",
    "        x = int(x)\n",
    "        print(f\"Conversion of `{x}` Successful!\")\n",
    "    except ValueError:\n",
    "        return (f\"Error: Conversion of `{x}` failed!\")\n",
    "\n",
    "parse_int(\"5\")\n",
    "parse_int(\"five\")\n",
    "\n",
    "\n"
   ],
   "id": "72007d2a5d2546f4",
   "outputs": [
    {
     "name": "stdout",
     "output_type": "stream",
     "text": [
      "Conversion of `5` Successful!\n"
     ]
    },
    {
     "data": {
      "text/plain": [
       "'Error: Conversion of `five` failed!'"
      ]
     },
     "execution_count": 51,
     "metadata": {},
     "output_type": "execute_result"
    }
   ],
   "execution_count": 51
  },
  {
   "metadata": {
    "ExecuteTime": {
     "end_time": "2025-02-21T00:25:20.992749Z",
     "start_time": "2025-02-21T00:25:20.981864Z"
    }
   },
   "cell_type": "code",
   "source": [
    "# 10. Finally Block\n",
    "def safe_divide(x, y):\n",
    "    try:\n",
    "        return x / y\n",
    "    except ZeroDivisionError:\n",
    "        return \"Error: cannot divide by zero\"\n",
    "    finally:\n",
    "        print(\"Division Attempted\")\n",
    "\n",
    "print(f\"10 / 2 = {safe_divide(10, 2)} \")\n",
    "\n",
    "print(f\"10 / 0 = {safe_divide(10, 0)} \")"
   ],
   "id": "8be5cd4795f30df3",
   "outputs": [
    {
     "name": "stdout",
     "output_type": "stream",
     "text": [
      "Division Attempted\n",
      "10 / 2 = 5.0 \n",
      "Division Attempted\n",
      "10 / 0 = Error: cannot divide by zero \n"
     ]
    }
   ],
   "execution_count": 54
  },
  {
   "metadata": {
    "ExecuteTime": {
     "end_time": "2025-02-21T00:34:34.895291Z",
     "start_time": "2025-02-21T00:34:34.867567Z"
    }
   },
   "cell_type": "code",
   "source": [
    "# 11. Using Built-in Iterators\n",
    "numbers = [1, 2, 3, 4 ,5]\n",
    "iterator = iter(numbers)\n",
    "\n",
    "print(next(iterator))\n",
    "print(next(iterator))\n",
    "print(next(iterator))\n",
    "print(next(iterator))\n",
    "print(next(iterator))"
   ],
   "id": "a2bae7a50aee02be",
   "outputs": [
    {
     "name": "stdout",
     "output_type": "stream",
     "text": [
      "1\n",
      "2\n",
      "3\n",
      "4\n",
      "5\n"
     ]
    }
   ],
   "execution_count": 55
  },
  {
   "metadata": {
    "ExecuteTime": {
     "end_time": "2025-02-21T00:35:29.932644Z",
     "start_time": "2025-02-21T00:35:29.928349Z"
    }
   },
   "cell_type": "code",
   "source": [
    "list_of_words = [\"Hello\", \"World\", \"!\"]\n",
    "iterator = iter(list_of_words)\n",
    "\n",
    "for word in list_of_words:\n",
    "    print(next(iterator))"
   ],
   "id": "bf4dce8351a7e622",
   "outputs": [
    {
     "name": "stdout",
     "output_type": "stream",
     "text": [
      "Hello\n",
      "World\n",
      "!\n"
     ]
    }
   ],
   "execution_count": 57
  },
  {
   "metadata": {
    "ExecuteTime": {
     "end_time": "2025-02-21T00:38:43.238497Z",
     "start_time": "2025-02-21T00:38:43.224013Z"
    }
   },
   "cell_type": "code",
   "source": [
    "class Countdown:\n",
    "    def __init__(self, start):\n",
    "        self.current = start\n",
    "\n",
    "    def __iter__(self):\n",
    "        return self\n",
    "\n",
    "    def __next__(self):\n",
    "        if self.current < 0:\n",
    "            raise StopIteration\n",
    "        value = self.current\n",
    "        self.current -= 1\n",
    "        return value\n",
    "\n",
    "for num in Countdown(5):\n",
    "    print(num)"
   ],
   "id": "b0afc9e4a9455145",
   "outputs": [
    {
     "name": "stdout",
     "output_type": "stream",
     "text": [
      "5\n",
      "4\n",
      "3\n",
      "2\n",
      "1\n",
      "0\n"
     ]
    }
   ],
   "execution_count": 59
  },
  {
   "metadata": {
    "ExecuteTime": {
     "end_time": "2025-02-21T00:43:39.853574Z",
     "start_time": "2025-02-21T00:43:39.846125Z"
    }
   },
   "cell_type": "code",
   "source": [
    "import itertools\n",
    "\n",
    "list_of_colors = [\"red\", \"green\", \"blue\", \"yellow\", \"magenta\", \"cyan\"]\n",
    "cycled_colors = itertools.cycle(list_of_colors)\n",
    "\n",
    "for i in range(6):\n",
    "    print(next(cycled_colors))"
   ],
   "id": "a95a3d9bf46e1da",
   "outputs": [
    {
     "name": "stdout",
     "output_type": "stream",
     "text": [
      "red\n",
      "green\n",
      "blue\n",
      "yellow\n",
      "magenta\n",
      "cyan\n"
     ]
    }
   ],
   "execution_count": 69
  },
  {
   "metadata": {
    "ExecuteTime": {
     "end_time": "2025-02-21T00:43:14.300291Z",
     "start_time": "2025-02-21T00:43:14.297464Z"
    }
   },
   "cell_type": "code",
   "source": "",
   "id": "1376ed9d41b140c",
   "outputs": [],
   "execution_count": null
  }
 ],
 "metadata": {
  "kernelspec": {
   "name": "python3",
   "language": "python",
   "display_name": "Python 3 (ipykernel)"
  }
 },
 "nbformat": 5,
 "nbformat_minor": 9
}
